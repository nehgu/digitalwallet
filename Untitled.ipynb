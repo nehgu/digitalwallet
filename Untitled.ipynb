{
 "cells": [
  {
   "cell_type": "code",
   "execution_count": 1,
   "metadata": {
    "collapsed": true
   },
   "outputs": [],
   "source": [
    "import networkx as nx\n",
    "import matplotlib.pyplot as plt\n",
    "from datetime import date, datetime\n",
    "G=nx.Graph()"
   ]
  },
  {
   "cell_type": "code",
   "execution_count": 2,
   "metadata": {
    "collapsed": true
   },
   "outputs": [],
   "source": [
    "from dateutil.parser import parse\n",
    "\n",
    "def is_date(string):\n",
    "    try: \n",
    "        parse(string)\n",
    "        return True\n",
    "    except ValueError:\n",
    "        return False"
   ]
  },
  {
   "cell_type": "code",
   "execution_count": 3,
   "metadata": {
    "collapsed": false
   },
   "outputs": [],
   "source": [
    "G.clear()\n",
    "header = \"time, id1, id2, amount, message\"\n",
    "f = open('paymo_input/batch_payment.txt')\n",
    "for line in f:\n",
    "    if (line.startswith('time, id1, id2, amount,')):\n",
    "        continue\n",
    "    else:\n",
    "        words=line.split(\", \")\n",
    "        if (is_date(words[0])==False):\n",
    "            continue\n",
    "        d1=words[1]\n",
    "        d2=words[2]\n",
    "        G.add_node(d1)\n",
    "        G.add_node(d2)\n",
    "        G.add_edge(d1,d2)\n",
    "f.close()"
   ]
  },
  {
   "cell_type": "code",
   "execution_count": 55,
   "metadata": {
    "collapsed": false
   },
   "outputs": [
    {
     "data": {
      "text/plain": [
       "<function TextIOWrapper.close>"
      ]
     },
     "execution_count": 55,
     "metadata": {},
     "output_type": "execute_result"
    }
   ],
   "source": [
    "#For Feature 1\n",
    "fhat = open('paymo_input/stream_payment.txt')\n",
    "with open('paymo_output/output1.txt', 'a') as out:\n",
    "    for line in fhat:\n",
    "        if (line.startswith('time, id1, id2, amount,')):\n",
    "            continue\n",
    "        else:\n",
    "            words=line.split(\", \")\n",
    "            if (is_date(words[0])==False):\n",
    "                continue\n",
    "            d1=words[1]\n",
    "            d2=words[2]\n",
    "            try:\n",
    "                if (nx.shortest_path_length(G, d1,d2)==1):\n",
    "                    newpath = nx.shortest_path(G,d1,d2)\n",
    "                    out.write(\"trusted\\n\")\n",
    "                else:\n",
    "                    out.write(\"unverified\\n\")\n",
    "            except:\n",
    "                out.write(\"unverified\\n\")\n",
    "                continue\n",
    "fhat.close\n",
    "out.close"
   ]
  },
  {
   "cell_type": "code",
   "execution_count": 56,
   "metadata": {
    "collapsed": false
   },
   "outputs": [
    {
     "data": {
      "text/plain": [
       "<function TextIOWrapper.close>"
      ]
     },
     "execution_count": 56,
     "metadata": {},
     "output_type": "execute_result"
    }
   ],
   "source": [
    "#For Feature 2\n",
    "fhat = open('paymo_input/stream_payment.txt')\n",
    "with open('paymo_output/output2.txt', 'a') as out:\n",
    "    for line in fhat:\n",
    "        if (line.startswith('time, id1, id2, amount,')):\n",
    "            continue\n",
    "        else:\n",
    "            words=line.split(\", \")\n",
    "            if (is_date(words[0])==False):\n",
    "                continue\n",
    "            d1=words[1]\n",
    "            d2=words[2]\n",
    "            try:\n",
    "                if (nx.shortest_path_length(G, d1,d2)<=2):\n",
    "                    newpath = nx.shortest_path(G,d1,d2)\n",
    "                    out.write(\"trusted\\n\")\n",
    "                else:\n",
    "                    out.write(\"unverified\\n\")\n",
    "            except:\n",
    "                out.write(\"unverified\\n\")\n",
    "                continue\n",
    "fhat.close\n",
    "out.close"
   ]
  },
  {
   "cell_type": "code",
   "execution_count": 57,
   "metadata": {
    "collapsed": false
   },
   "outputs": [
    {
     "data": {
      "text/plain": [
       "<function TextIOWrapper.close>"
      ]
     },
     "execution_count": 57,
     "metadata": {},
     "output_type": "execute_result"
    }
   ],
   "source": [
    "#For Feature 3\n",
    "fhat = open('paymo_input/stream_payment.txt')\n",
    "with open('paymo_output/output3.txt', 'a') as out:\n",
    "    for line in fhat:\n",
    "        if (line.startswith('time, id1, id2, amount,')):\n",
    "            continue\n",
    "        else:\n",
    "            words=line.split(\", \")\n",
    "            if (is_date(words[0])==False):\n",
    "                continue\n",
    "            d1=words[1]\n",
    "            d2=words[2]\n",
    "            try:\n",
    "                if (nx.shortest_path_length(G, d1,d2)<=3):\n",
    "                    newpath = nx.shortest_path(G,d1,d2)\n",
    "                    out.write(\"trusted\\n\")\n",
    "                else:\n",
    "                    out.write(\"unverified\\n\")\n",
    "            except:\n",
    "                out.write(\"unverified\\n\")\n",
    "                continue\n",
    "fhat.close\n",
    "out.close"
   ]
  },
  {
   "cell_type": "code",
   "execution_count": null,
   "metadata": {
    "collapsed": true
   },
   "outputs": [],
   "source": []
  }
 ],
 "metadata": {
  "kernelspec": {
   "display_name": "Python 3",
   "language": "python",
   "name": "python3"
  },
  "language_info": {
   "codemirror_mode": {
    "name": "ipython",
    "version": 3
   },
   "file_extension": ".py",
   "mimetype": "text/x-python",
   "name": "python",
   "nbconvert_exporter": "python",
   "pygments_lexer": "ipython3",
   "version": "3.5.1"
  }
 },
 "nbformat": 4,
 "nbformat_minor": 0
}
